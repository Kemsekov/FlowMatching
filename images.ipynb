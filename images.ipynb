{
 "cells": [
  {
   "cell_type": "code",
   "execution_count": 1,
   "id": "ddb938a0",
   "metadata": {},
   "outputs": [],
   "source": [
    "import os\n",
    "import torch\n",
    "from torch.utils.data import Dataset\n",
    "\n",
    "class TensorFolder(Dataset):\n",
    "    def __init__(self, root, transform=None, target_transform=None):\n",
    "        \"\"\"\n",
    "        Args:\n",
    "            root (str): Root directory with subfolders per class.\n",
    "            transform (callable, optional): Optional transform to apply to tensors.\n",
    "            target_transform (callable, optional): Optional transform to apply to labels.\n",
    "        \"\"\"\n",
    "        self.root = root\n",
    "        self.transform = transform\n",
    "        self.target_transform = target_transform\n",
    "\n",
    "        # Discover classes\n",
    "        self.classes = sorted(entry.name for entry in os.scandir(root) if entry.is_dir())\n",
    "        self.class_to_idx = {cls_name: idx for idx, cls_name in enumerate(self.classes)}\n",
    "\n",
    "        # Collect all tensor file paths with labels\n",
    "        self.samples = []\n",
    "        for cls in self.classes:\n",
    "            cls_dir = os.path.join(root, cls)\n",
    "            for fname in os.listdir(cls_dir):\n",
    "                if fname.endswith(\".pt\"):\n",
    "                    path = os.path.join(cls_dir, fname)\n",
    "                    self.samples.append((path, self.class_to_idx[cls]))\n",
    "\n",
    "    def __len__(self):\n",
    "        return len(self.samples)\n",
    "\n",
    "    def __getitem__(self, idx):\n",
    "        path, label = self.samples[idx]\n",
    "        tensor = torch.load(path)   # Load pre-saved tensor\n",
    "\n",
    "        if self.transform:\n",
    "            tensor = self.transform(tensor)\n",
    "        if self.target_transform:\n",
    "            label = self.target_transform(label)\n",
    "\n",
    "        return tensor, label\n"
   ]
  },
  {
   "cell_type": "code",
   "execution_count": 2,
   "id": "6e1a8567",
   "metadata": {},
   "outputs": [
    {
     "name": "stderr",
     "output_type": "stream",
     "text": [
      "/home/vlad/Programs/venv/lib/python3.12/site-packages/tqdm/auto.py:21: TqdmWarning: IProgress not found. Please update jupyter and ipywidgets. See https://ipywidgets.readthedocs.io/en/stable/user_install.html\n",
      "  from .autonotebook import tqdm as notebook_tqdm\n",
      "Bin by tensor size: 100%|██████████| 10676/10676 [00:03<00:00, 3305.30it/s]\n"
     ]
    },
    {
     "name": "stdout",
     "output_type": "stream",
     "text": [
      "unique 10674\n",
      "total 10800\n"
     ]
    },
    {
     "name": "stderr",
     "output_type": "stream",
     "text": [
      "Bin by tensor size: 100%|██████████| 562/562 [00:00<00:00, 3025.68it/s]"
     ]
    },
    {
     "name": "stdout",
     "output_type": "stream",
     "text": [
      "unique 562\n",
      "total 640\n",
      "Train items 10800\n",
      "Test items 640\n"
     ]
    },
    {
     "name": "stderr",
     "output_type": "stream",
     "text": [
      "\n"
     ]
    },
    {
     "data": {
      "text/plain": [
       "['Birds', 'cat', 'dog']"
      ]
     },
     "execution_count": 2,
     "metadata": {},
     "output_type": "execute_result"
    }
   ],
   "source": [
    "from random import shuffle\n",
    "import random\n",
    "import torch\n",
    "from torchvision.datasets import ImageFolder\n",
    "import torchvision.transforms as T\n",
    "from kemsekov_torch.train import split_dataset\n",
    "\n",
    "\n",
    "dataset = TensorFolder('./latents/')\n",
    "random_state = 123\n",
    "torch.random.manual_seed(random_state)\n",
    "random.seed(random_state)\n",
    "\n",
    "# split dataset into train and test\n",
    "train_dataset,test_dataset,train_loader, test_loader = split_dataset(\n",
    "    dataset,\n",
    "    test_size=0.05,\n",
    "    num_workers=16,\n",
    "    batch_size=16,\n",
    "    random_state=random_state,\n",
    "    bin_by_size=True\n",
    ")\n",
    "dataset.classes"
   ]
  },
  {
   "cell_type": "code",
   "execution_count": 3,
   "id": "3c26ad84",
   "metadata": {},
   "outputs": [],
   "source": [
    "# import matplotlib.pyplot as plt\n",
    "# from random import randint\n",
    "# from vae import decode\n",
    "\n",
    "# # Set up a 4x4 grid for displaying images\n",
    "# plt.figure(figsize=(10,10))\n",
    "\n",
    "# for i in range(4):\n",
    "#     for j in range(4):\n",
    "#         index = randint(0, len(dataset) - 1)       # Random index from dataset\n",
    "#         sample = dataset[index]                    # Select a random sample\n",
    "#         image, label = sample[0], sample[1]        # Separate image and label\n",
    "#         # decode latents\n",
    "#         image_dec = decode(image[None,:])[0]\n",
    "#         plt.subplot(4,4,i*4+j+1)\n",
    "#         plt.title(dataset.classes[label])\n",
    "#         # Display image on the selected subplot\n",
    "#         plt.imshow(T.ToPILImage()(image_dec))\n",
    "#         plt.axis(\"off\")                             # Hide axes for clean view\n",
    "# print(\"Latent size\",image.shape)\n",
    "# plt.tight_layout()\n",
    "# plt.show()"
   ]
  },
  {
   "cell_type": "code",
   "execution_count": 4,
   "id": "1eb2533d",
   "metadata": {},
   "outputs": [
    {
     "data": {
      "text/plain": [
       "torch.Size([4, 4, 128, 128])"
      ]
     },
     "execution_count": 4,
     "metadata": {},
     "output_type": "execute_result"
    }
   ],
   "source": [
    "from typing import List\n",
    "from kemsekov_torch.resunet import ResidualUnet\n",
    "from kemsekov_torch.residual import ResidualBlock\n",
    "from kemsekov_torch.attention import LinearSelfAttentionBlock, EfficientSpatialChannelAttention\n",
    "from kemsekov_torch.common_modules import Transpose, Repeat\n",
    "from kemsekov_torch.positional_emb import AddPositionalEmbeddingPermute\n",
    "import torch.nn.functional as F\n",
    "import torch.nn as nn\n",
    "def get_lsa(c,repeats):\n",
    "    return nn.Sequential(\n",
    "        Transpose(1,-1),\n",
    "        Repeat(\n",
    "            LinearSelfAttentionBlock(\n",
    "                c,\n",
    "                c,\n",
    "                max(4,min(c//16,32)),\n",
    "                add_rotary_emb=True,\n",
    "                use_classic_attention=True,\n",
    "                add_gating=True,\n",
    "                add_local_attention=False\n",
    "            ),\n",
    "            repeats\n",
    "        ),\n",
    "        Repeat(\n",
    "            LinearSelfAttentionBlock(\n",
    "                c,\n",
    "                c,\n",
    "                max(4,min(c//16,32)),\n",
    "                add_rotary_emb=True,\n",
    "                use_classic_attention=True,\n",
    "                add_gating=True,\n",
    "                add_local_attention=False\n",
    "            ),\n",
    "            repeats\n",
    "        ),\n",
    "        Transpose(1,-1),\n",
    "    )\n",
    "class FlowMatchingModel(nn.Module):\n",
    "    def __init__(self, in_channels,classes : List[str]):\n",
    "        super().__init__()\n",
    "        self.num_classes=len(classes)\n",
    "        self.classes=classes\n",
    "        channels = [64,128,256,512]\n",
    "    \n",
    "        common = dict(\n",
    "            normalization='group',\n",
    "            activation=torch.nn.SiLU,\n",
    "        )\n",
    "        self.unet = ResidualUnet(\n",
    "            in_channels,\n",
    "            in_channels,\n",
    "            channels=channels,\n",
    "            repeats=2,\n",
    "            attention = EfficientSpatialChannelAttention,\n",
    "            bottom_layer=get_lsa(channels[-1],2),\n",
    "            **common\n",
    "        )\n",
    "        \n",
    "        self.middle = nn.ModuleList([\n",
    "            nn.Sequential(\n",
    "                ResidualBlock(c,[c*2,c],**common),\n",
    "                EfficientSpatialChannelAttention(c),\n",
    "                # get_lsa(c,1) if c>=256 else nn.Identity(),\n",
    "                ResidualBlock(c,[c*2,c],**common),\n",
    "                EfficientSpatialChannelAttention(c),\n",
    "            )\n",
    "            for c in [channels[0]]+channels\n",
    "        ])\n",
    "        \n",
    "        self.class_to_emb = nn.ModuleList(\n",
    "            [nn.Linear(num_classes,c) for c in [channels[0]]+channels]\n",
    "        )\n",
    "        self.time_emb = nn.ModuleList(\n",
    "            [\n",
    "                nn.Sequential(\n",
    "                    nn.Linear(1,c),\n",
    "                    nn.GELU(),\n",
    "                    nn.Linear(c,c),\n",
    "                )\n",
    "                for c in [channels[0]]+channels\n",
    "            ]\n",
    "        )\n",
    "        self.combine = nn.ModuleList(\n",
    "            [\n",
    "                nn.Sequential(\n",
    "                    nn.Linear(c*2,c),\n",
    "                    nn.LayerNorm(c)\n",
    "                ) \n",
    "                for c in [channels[0]]+channels\n",
    "            ]\n",
    "        )\n",
    "\n",
    "   \n",
    "        \n",
    "    def forward(self,x,time,cls):\n",
    "        if cls.dtype==torch.long or cls.dtype==torch.int32:\n",
    "            # handle empty labels\n",
    "            no_context = (cls<0) | (cls>=self.num_classes)\n",
    "            cls[no_context]=0\n",
    "            cls = torch.nn.functional.one_hot(cls,self.num_classes).float().to(x.device)\n",
    "            \n",
    "            # if not label is provided set all values of corresponding elements to 0\n",
    "            cls[no_context]=0\n",
    "\n",
    "        if time.dim()<2:\n",
    "            time = time[:,None]\n",
    "        \n",
    "        return self.unet1(x, time, cls)\n",
    "\n",
    "    def unet1(self, x, time, cls):\n",
    "        context = []\n",
    "        for class_emb,time_emb,c in zip(self.class_to_emb,self.time_emb,self.combine):\n",
    "            cls_emb = class_emb(cls)\n",
    "            t_emb = time_emb(time)\n",
    "            \n",
    "            # try sum and linear combination\n",
    "            context_ = c(torch.concat([cls_emb,t_emb],-1))[:,:,None,None]\n",
    "            \n",
    "            context.append(context_)\n",
    "\n",
    "        skip = self.unet.encode_with_context(x,context)\n",
    "        \n",
    "        for i,m in enumerate(self.middle):\n",
    "            skip[i]=m(skip[i])+context[i]\n",
    "        \n",
    "        # skip = [skip[0]]+[p(s) for s,p in zip(skip[1:],self.add_pos)]\n",
    "        \n",
    "        rec = self.unet.decode(skip)\n",
    "        return rec\n",
    "\n",
    "num_classes = len(dataset.classes)\n",
    "model = FlowMatchingModel(4,dataset.classes)\n",
    "\n",
    "im = torch.randn((4,4,128,128))\n",
    "time = torch.Tensor([0.1,0.9,0.2,0.3])\n",
    "classes = torch.Tensor([1,2,3,-1]).long()\n",
    "model(im,time,classes).shape"
   ]
  },
  {
   "cell_type": "code",
   "execution_count": null,
   "id": "e764a06f",
   "metadata": {},
   "outputs": [
    {
     "name": "stdout",
     "output_type": "stream",
     "text": [
      "Total model parameters 43.59 M\n",
      "Using device cuda\n",
      "Failed to load state with error [Errno 2] No such file or directory: 'runs/vae-natural/last/state/pytorch_model.bin'\n",
      "Ignoring state loading...\n",
      "trying to capture model architecture...\n",
      "Saved model architecture at runs/vae-natural/model.pt. You can torch.load it and update it's weights with checkpoint\n",
      "\n",
      "Epoch 1/600\n"
     ]
    },
    {
     "name": "stderr",
     "output_type": "stream",
     "text": [
      "train 0: 100%|██████████| 675/675 [00:46<00:00, 14.61it/s, loss=0.6680, r2=0.5119]\n"
     ]
    },
    {
     "name": "stdout",
     "output_type": "stream",
     "text": [
      "+------+---------+---------+\n",
      "|      |  Train  |  Test   |\n",
      "+------+---------+---------+\n",
      "| loss | 0.72793 | 0.64002 |\n",
      "|  r2  | 0.4672  | 0.5198  |\n",
      "+------+---------+---------+\n",
      "saved epoch-1\n",
      "\n",
      "Epoch 2/600\n"
     ]
    },
    {
     "name": "stderr",
     "output_type": "stream",
     "text": [
      "train 0: 100%|██████████| 675/675 [00:37<00:00, 18.04it/s, loss=0.6512, r2=0.5330]\n"
     ]
    },
    {
     "name": "stdout",
     "output_type": "stream",
     "text": [
      "+------+---------+---------+\n",
      "|      |  Train  |  Test   |\n",
      "+------+---------+---------+\n",
      "| loss | 0.62912 | 0.60496 |\n",
      "|  r2  | 0.5279  | 0.5416  |\n",
      "+------+---------+---------+\n",
      "saved epoch-2\n",
      "\n",
      "Epoch 3/600\n"
     ]
    },
    {
     "name": "stderr",
     "output_type": "stream",
     "text": [
      "train 0: 100%|██████████| 675/675 [00:37<00:00, 17.98it/s, loss=0.5740, r2=0.5695]\n"
     ]
    },
    {
     "name": "stdout",
     "output_type": "stream",
     "text": [
      "+------+---------+---------+\n",
      "|      |  Train  |  Test   |\n",
      "+------+---------+---------+\n",
      "| loss | 0.60105 | 0.57403 |\n",
      "|  r2  | 0.5454  | 0.5612  |\n",
      "+------+---------+---------+\n",
      "saved epoch-3\n",
      "\n",
      "Epoch 4/600\n"
     ]
    },
    {
     "name": "stderr",
     "output_type": "stream",
     "text": [
      "train 0: 100%|██████████| 675/675 [00:37<00:00, 18.13it/s, loss=0.6246, r2=0.5413]\n"
     ]
    },
    {
     "name": "stdout",
     "output_type": "stream",
     "text": [
      "+------+---------+---------+\n",
      "|      |  Train  |  Test   |\n",
      "+------+---------+---------+\n",
      "| loss | 0.58588 | 0.56786 |\n",
      "|  r2  | 0.5546  | 0.5643  |\n",
      "+------+---------+---------+\n",
      "saved epoch-4\n",
      "\n",
      "Epoch 5/600\n"
     ]
    },
    {
     "name": "stderr",
     "output_type": "stream",
     "text": [
      "train 0: 100%|██████████| 675/675 [00:37<00:00, 18.12it/s, loss=0.6721, r2=0.5185]\n"
     ]
    },
    {
     "name": "stdout",
     "output_type": "stream",
     "text": [
      "+------+---------+---------+\n",
      "|      |  Train  |  Test   |\n",
      "+------+---------+---------+\n",
      "| loss | 0.57613 | 0.56664 |\n",
      "|  r2  | 0.5605  | 0.5655  |\n",
      "+------+---------+---------+\n",
      "saved epoch-5\n",
      "\n",
      "Epoch 6/600\n"
     ]
    },
    {
     "name": "stderr",
     "output_type": "stream",
     "text": [
      "train 0: 100%|██████████| 675/675 [00:37<00:00, 17.92it/s, loss=0.5786, r2=0.5728]\n"
     ]
    },
    {
     "name": "stdout",
     "output_type": "stream",
     "text": [
      "+------+---------+---------+\n",
      "|      |  Train  |  Test   |\n",
      "+------+---------+---------+\n",
      "| loss | 0.56871 | 0.54931 |\n",
      "|  r2  | 0.5652  | 0.5755  |\n",
      "+------+---------+---------+\n",
      "saved epoch-6\n",
      "\n",
      "Epoch 7/600\n"
     ]
    },
    {
     "name": "stderr",
     "output_type": "stream",
     "text": [
      "train 0: 100%|██████████| 675/675 [00:37<00:00, 17.99it/s, loss=0.7153, r2=0.4828]\n"
     ]
    },
    {
     "name": "stdout",
     "output_type": "stream",
     "text": [
      "+------+---------+---------+\n",
      "|      |  Train  |  Test   |\n",
      "+------+---------+---------+\n",
      "| loss | 0.56442 | 0.55203 |\n",
      "|  r2  | 0.5678  | 0.5734  |\n",
      "+------+---------+---------+\n",
      "\n",
      "Epoch 8/600\n"
     ]
    },
    {
     "name": "stderr",
     "output_type": "stream",
     "text": [
      "train 0: 100%|██████████| 675/675 [00:37<00:00, 18.12it/s, loss=0.5492, r2=0.5887]\n"
     ]
    },
    {
     "name": "stdout",
     "output_type": "stream",
     "text": [
      "+------+---------+---------+\n",
      "|      |  Train  |  Test   |\n",
      "+------+---------+---------+\n",
      "| loss | 0.55705 | 0.56014 |\n",
      "|  r2  | 0.5723  | 0.5703  |\n",
      "+------+---------+---------+\n",
      "\n",
      "Epoch 9/600\n"
     ]
    },
    {
     "name": "stderr",
     "output_type": "stream",
     "text": [
      "train 0: 100%|██████████| 675/675 [00:37<00:00, 17.91it/s, loss=0.6206, r2=0.5496]\n"
     ]
    },
    {
     "name": "stdout",
     "output_type": "stream",
     "text": [
      "+------+---------+---------+\n",
      "|      |  Train  |  Test   |\n",
      "+------+---------+---------+\n",
      "| loss | 0.55502 | 0.55964 |\n",
      "|  r2  | 0.5736  | 0.5695  |\n",
      "+------+---------+---------+\n",
      "\n",
      "Epoch 10/600\n"
     ]
    },
    {
     "name": "stderr",
     "output_type": "stream",
     "text": [
      "train 0: 100%|██████████| 675/675 [00:37<00:00, 17.96it/s, loss=0.6279, r2=0.5394]\n"
     ]
    },
    {
     "name": "stdout",
     "output_type": "stream",
     "text": [
      "+------+---------+---------+\n",
      "|      |  Train  |  Test   |\n",
      "+------+---------+---------+\n",
      "| loss | 0.55343 | 0.55679 |\n",
      "|  r2  | 0.5744  | 0.5711  |\n",
      "+------+---------+---------+\n",
      "\n",
      "Epoch 11/600\n"
     ]
    },
    {
     "name": "stderr",
     "output_type": "stream",
     "text": [
      "train 0: 100%|██████████| 675/675 [00:37<00:00, 17.79it/s, loss=0.5852, r2=0.5669]\n"
     ]
    },
    {
     "name": "stdout",
     "output_type": "stream",
     "text": [
      "+------+--------+---------+\n",
      "|      | Train  |  Test   |\n",
      "+------+--------+---------+\n",
      "| loss | 0.5506 | 0.55243 |\n",
      "|  r2  | 0.5762 | 0.5745  |\n",
      "+------+--------+---------+\n",
      "\n",
      "Epoch 12/600\n"
     ]
    },
    {
     "name": "stderr",
     "output_type": "stream",
     "text": [
      "train 0: 100%|██████████| 675/675 [00:37<00:00, 17.89it/s, loss=0.6063, r2=0.5628]\n"
     ]
    },
    {
     "name": "stdout",
     "output_type": "stream",
     "text": [
      "+------+---------+---------+\n",
      "|      |  Train  |  Test   |\n",
      "+------+---------+---------+\n",
      "| loss | 0.54835 | 0.53775 |\n",
      "|  r2  | 0.5777  | 0.5834  |\n",
      "+------+---------+---------+\n",
      "saved epoch-12\n",
      "\n",
      "Epoch 13/600\n"
     ]
    },
    {
     "name": "stderr",
     "output_type": "stream",
     "text": [
      "train 0: 100%|██████████| 675/675 [00:39<00:00, 16.94it/s, loss=0.5117, r2=0.6096]\n"
     ]
    },
    {
     "name": "stdout",
     "output_type": "stream",
     "text": [
      "+------+---------+---------+\n",
      "|      |  Train  |  Test   |\n",
      "+------+---------+---------+\n",
      "| loss | 0.54761 | 0.54277 |\n",
      "|  r2  | 0.5781  | 0.5813  |\n",
      "+------+---------+---------+\n",
      "\n",
      "Epoch 14/600\n"
     ]
    },
    {
     "name": "stderr",
     "output_type": "stream",
     "text": [
      "train 0: 100%|██████████| 675/675 [00:40<00:00, 16.52it/s, loss=0.5846, r2=0.5668]\n"
     ]
    },
    {
     "name": "stdout",
     "output_type": "stream",
     "text": [
      "+------+---------+---------+\n",
      "|      |  Train  |  Test   |\n",
      "+------+---------+---------+\n",
      "| loss | 0.54696 | 0.54162 |\n",
      "|  r2  | 0.5787  | 0.5806  |\n",
      "+------+---------+---------+\n",
      "\n",
      "Epoch 15/600\n"
     ]
    },
    {
     "name": "stderr",
     "output_type": "stream",
     "text": [
      "train 0: 100%|██████████| 675/675 [00:44<00:00, 15.25it/s, loss=0.5353, r2=0.5933]\n"
     ]
    },
    {
     "name": "stdout",
     "output_type": "stream",
     "text": [
      "+------+---------+---------+\n",
      "|      |  Train  |  Test   |\n",
      "+------+---------+---------+\n",
      "| loss | 0.54579 | 0.54103 |\n",
      "|  r2  | 0.5793  | 0.5812  |\n",
      "+------+---------+---------+\n",
      "\n",
      "Epoch 16/600\n"
     ]
    },
    {
     "name": "stderr",
     "output_type": "stream",
     "text": [
      "train 0: 100%|██████████| 675/675 [00:42<00:00, 15.78it/s, loss=0.5911, r2=0.5653]\n"
     ]
    },
    {
     "name": "stdout",
     "output_type": "stream",
     "text": [
      "+------+---------+---------+\n",
      "|      |  Train  |  Test   |\n",
      "+------+---------+---------+\n",
      "| loss | 0.54278 | 0.52925 |\n",
      "|  r2  | 0.5811  | 0.5874  |\n",
      "+------+---------+---------+\n",
      "saved epoch-16\n",
      "\n",
      "Epoch 17/600\n"
     ]
    },
    {
     "name": "stderr",
     "output_type": "stream",
     "text": [
      "train 0: 100%|██████████| 675/675 [00:43<00:00, 15.44it/s, loss=0.5563, r2=0.5875]\n"
     ]
    },
    {
     "name": "stdout",
     "output_type": "stream",
     "text": [
      "+------+--------+---------+\n",
      "|      | Train  |  Test   |\n",
      "+------+--------+---------+\n",
      "| loss | 0.5397 | 0.52694 |\n",
      "|  r2  | 0.5830 | 0.5899  |\n",
      "+------+--------+---------+\n",
      "saved epoch-17\n",
      "\n",
      "Epoch 18/600\n"
     ]
    },
    {
     "name": "stderr",
     "output_type": "stream",
     "text": [
      "train 0: 100%|██████████| 675/675 [00:37<00:00, 18.20it/s, loss=0.5438, r2=0.5897]\n"
     ]
    },
    {
     "name": "stdout",
     "output_type": "stream",
     "text": [
      "+------+--------+---------+\n",
      "|      | Train  |  Test   |\n",
      "+------+--------+---------+\n",
      "| loss | 0.5368 | 0.53672 |\n",
      "|  r2  | 0.5847 | 0.5825  |\n",
      "+------+--------+---------+\n",
      "\n",
      "Epoch 19/600\n"
     ]
    },
    {
     "name": "stderr",
     "output_type": "stream",
     "text": [
      "train 0: 100%|██████████| 675/675 [00:39<00:00, 16.90it/s, loss=0.5053, r2=0.6159]\n"
     ]
    },
    {
     "name": "stdout",
     "output_type": "stream",
     "text": [
      "+------+---------+--------+\n",
      "|      |  Train  |  Test  |\n",
      "+------+---------+--------+\n",
      "| loss | 0.53744 | 0.5239 |\n",
      "|  r2  | 0.5844  | 0.5909 |\n",
      "+------+---------+--------+\n",
      "saved epoch-19\n",
      "\n",
      "Epoch 20/600\n"
     ]
    },
    {
     "name": "stderr",
     "output_type": "stream",
     "text": [
      "train 0: 100%|██████████| 675/675 [00:36<00:00, 18.35it/s, loss=0.5367, r2=0.5959]\n"
     ]
    },
    {
     "name": "stdout",
     "output_type": "stream",
     "text": [
      "+------+--------+---------+\n",
      "|      | Train  |  Test   |\n",
      "+------+--------+---------+\n",
      "| loss | 0.5352 | 0.53505 |\n",
      "|  r2  | 0.5860 | 0.5854  |\n",
      "+------+--------+---------+\n",
      "\n",
      "Epoch 21/600\n"
     ]
    },
    {
     "name": "stderr",
     "output_type": "stream",
     "text": [
      "train 0: 100%|██████████| 675/675 [00:35<00:00, 18.80it/s, loss=0.5299, r2=0.5982]\n"
     ]
    },
    {
     "name": "stdout",
     "output_type": "stream",
     "text": [
      "+------+---------+---------+\n",
      "|      |  Train  |  Test   |\n",
      "+------+---------+---------+\n",
      "| loss | 0.53762 | 0.52851 |\n",
      "|  r2  | 0.5841  | 0.5880  |\n",
      "+------+---------+---------+\n",
      "\n",
      "Epoch 22/600\n"
     ]
    },
    {
     "name": "stderr",
     "output_type": "stream",
     "text": [
      "train 0: 100%|██████████| 675/675 [00:37<00:00, 18.01it/s, loss=0.5356, r2=0.5943]\n"
     ]
    },
    {
     "name": "stdout",
     "output_type": "stream",
     "text": [
      "+------+---------+---------+\n",
      "|      |  Train  |  Test   |\n",
      "+------+---------+---------+\n",
      "| loss | 0.53585 | 0.53145 |\n",
      "|  r2  | 0.5853  | 0.5863  |\n",
      "+------+---------+---------+\n",
      "\n",
      "Epoch 23/600\n"
     ]
    },
    {
     "name": "stderr",
     "output_type": "stream",
     "text": [
      "train 0: 100%|██████████| 675/675 [00:35<00:00, 19.25it/s, loss=0.5861, r2=0.5641]\n"
     ]
    },
    {
     "name": "stdout",
     "output_type": "stream",
     "text": [
      "+------+--------+---------+\n",
      "|      | Train  |  Test   |\n",
      "+------+--------+---------+\n",
      "| loss | 0.5334 | 0.51942 |\n",
      "|  r2  | 0.5867 | 0.5947  |\n",
      "+------+--------+---------+\n",
      "saved epoch-23\n",
      "\n",
      "Epoch 24/600\n"
     ]
    },
    {
     "name": "stderr",
     "output_type": "stream",
     "text": [
      "train 0: 100%|██████████| 675/675 [00:34<00:00, 19.55it/s, loss=0.5509, r2=0.5904]\n"
     ]
    },
    {
     "name": "stdout",
     "output_type": "stream",
     "text": [
      "+------+---------+--------+\n",
      "|      |  Train  |  Test  |\n",
      "+------+---------+--------+\n",
      "| loss | 0.53425 | 0.5337 |\n",
      "|  r2  | 0.5864  | 0.5864 |\n",
      "+------+---------+--------+\n",
      "\n",
      "Epoch 25/600\n"
     ]
    },
    {
     "name": "stderr",
     "output_type": "stream",
     "text": [
      "train 0: 100%|██████████| 675/675 [00:35<00:00, 18.95it/s, loss=0.5145, r2=0.6063]\n"
     ]
    },
    {
     "name": "stdout",
     "output_type": "stream",
     "text": [
      "+------+---------+---------+\n",
      "|      |  Train  |  Test   |\n",
      "+------+---------+---------+\n",
      "| loss | 0.53169 | 0.52661 |\n",
      "|  r2  | 0.5877  | 0.5894  |\n",
      "+------+---------+---------+\n",
      "\n",
      "Epoch 26/600\n"
     ]
    },
    {
     "name": "stderr",
     "output_type": "stream",
     "text": [
      "train 0: 100%|██████████| 675/675 [00:40<00:00, 16.61it/s, loss=0.5133, r2=0.6095]\n"
     ]
    },
    {
     "name": "stdout",
     "output_type": "stream",
     "text": [
      "+------+--------+---------+\n",
      "|      | Train  |  Test   |\n",
      "+------+--------+---------+\n",
      "| loss | 0.529  | 0.52477 |\n",
      "|  r2  | 0.5892 | 0.5908  |\n",
      "+------+--------+---------+\n",
      "\n",
      "Epoch 27/600\n"
     ]
    },
    {
     "name": "stderr",
     "output_type": "stream",
     "text": [
      "train 0: 100%|██████████| 675/675 [00:45<00:00, 14.96it/s, loss=0.5615, r2=0.5811]\n"
     ]
    },
    {
     "name": "stdout",
     "output_type": "stream",
     "text": [
      "+------+---------+---------+\n",
      "|      |  Train  |  Test   |\n",
      "+------+---------+---------+\n",
      "| loss | 0.53035 | 0.52282 |\n",
      "|  r2  | 0.5888  | 0.5933  |\n",
      "+------+---------+---------+\n",
      "\n",
      "Epoch 28/600\n"
     ]
    },
    {
     "name": "stderr",
     "output_type": "stream",
     "text": [
      "train 0: 100%|██████████| 675/675 [00:38<00:00, 17.52it/s, loss=0.5592, r2=0.5836]\n"
     ]
    },
    {
     "name": "stdout",
     "output_type": "stream",
     "text": [
      "+------+---------+---------+\n",
      "|      |  Train  |  Test   |\n",
      "+------+---------+---------+\n",
      "| loss | 0.52671 | 0.51489 |\n",
      "|  r2  | 0.5910  | 0.5973  |\n",
      "+------+---------+---------+\n",
      "saved epoch-28\n",
      "\n",
      "Epoch 29/600\n"
     ]
    },
    {
     "name": "stderr",
     "output_type": "stream",
     "text": [
      "train 0: 100%|██████████| 675/675 [00:35<00:00, 18.92it/s, loss=0.4833, r2=0.6331]\n"
     ]
    },
    {
     "name": "stdout",
     "output_type": "stream",
     "text": [
      "+------+---------+---------+\n",
      "|      |  Train  |  Test   |\n",
      "+------+---------+---------+\n",
      "| loss | 0.52901 | 0.52668 |\n",
      "|  r2  | 0.5896  | 0.5920  |\n",
      "+------+---------+---------+\n",
      "\n",
      "Epoch 30/600\n"
     ]
    },
    {
     "name": "stderr",
     "output_type": "stream",
     "text": [
      "train 0: 100%|██████████| 675/675 [00:40<00:00, 16.79it/s, loss=0.5283, r2=0.5999]\n"
     ]
    },
    {
     "name": "stdout",
     "output_type": "stream",
     "text": [
      "+------+---------+---------+\n",
      "|      |  Train  |  Test   |\n",
      "+------+---------+---------+\n",
      "| loss | 0.52797 | 0.51151 |\n",
      "|  r2  | 0.5901  | 0.5996  |\n",
      "+------+---------+---------+\n",
      "saved epoch-30\n",
      "\n",
      "Epoch 31/600\n"
     ]
    },
    {
     "name": "stderr",
     "output_type": "stream",
     "text": [
      "train 0: 100%|██████████| 675/675 [00:42<00:00, 15.91it/s, loss=0.5576, r2=0.5850]\n"
     ]
    },
    {
     "name": "stdout",
     "output_type": "stream",
     "text": [
      "+------+---------+---------+\n",
      "|      |  Train  |  Test   |\n",
      "+------+---------+---------+\n",
      "| loss | 0.52789 | 0.52717 |\n",
      "|  r2  | 0.5902  | 0.5904  |\n",
      "+------+---------+---------+\n",
      "\n",
      "Epoch 32/600\n"
     ]
    },
    {
     "name": "stderr",
     "output_type": "stream",
     "text": [
      "train 0: 100%|██████████| 675/675 [00:34<00:00, 19.39it/s, loss=0.6393, r2=0.5389]\n"
     ]
    },
    {
     "name": "stdout",
     "output_type": "stream",
     "text": [
      "+------+---------+---------+\n",
      "|      |  Train  |  Test   |\n",
      "+------+---------+---------+\n",
      "| loss | 0.52469 | 0.51282 |\n",
      "|  r2  | 0.5921  | 0.5980  |\n",
      "+------+---------+---------+\n",
      "\n",
      "Epoch 33/600\n"
     ]
    },
    {
     "name": "stderr",
     "output_type": "stream",
     "text": [
      "train 0: 100%|██████████| 675/675 [00:34<00:00, 19.40it/s, loss=0.5543, r2=0.5876]\n"
     ]
    },
    {
     "name": "stdout",
     "output_type": "stream",
     "text": [
      "+------+---------+---------+\n",
      "|      |  Train  |  Test   |\n",
      "+------+---------+---------+\n",
      "| loss | 0.52577 | 0.51775 |\n",
      "|  r2  | 0.5915  | 0.5959  |\n",
      "+------+---------+---------+\n",
      "\n",
      "Epoch 34/600\n"
     ]
    },
    {
     "name": "stderr",
     "output_type": "stream",
     "text": [
      "train 0: 100%|██████████| 675/675 [00:34<00:00, 19.36it/s, loss=0.5985, r2=0.5703]\n"
     ]
    },
    {
     "name": "stdout",
     "output_type": "stream",
     "text": [
      "+------+---------+---------+\n",
      "|      |  Train  |  Test   |\n",
      "+------+---------+---------+\n",
      "| loss | 0.52751 | 0.51553 |\n",
      "|  r2  | 0.5910  | 0.5968  |\n",
      "+------+---------+---------+\n",
      "\n",
      "Epoch 35/600\n"
     ]
    },
    {
     "name": "stderr",
     "output_type": "stream",
     "text": [
      "train 0: 100%|██████████| 675/675 [00:43<00:00, 15.38it/s, loss=0.5182, r2=0.6098]\n"
     ]
    },
    {
     "name": "stdout",
     "output_type": "stream",
     "text": [
      "+------+---------+---------+\n",
      "|      |  Train  |  Test   |\n",
      "+------+---------+---------+\n",
      "| loss | 0.52375 | 0.52652 |\n",
      "|  r2  | 0.5931  | 0.5905  |\n",
      "+------+---------+---------+\n",
      "\n",
      "Epoch 36/600\n"
     ]
    },
    {
     "name": "stderr",
     "output_type": "stream",
     "text": [
      "train 0: 100%|██████████| 675/675 [00:37<00:00, 18.18it/s, loss=0.5989, r2=0.5605]\n"
     ]
    },
    {
     "name": "stdout",
     "output_type": "stream",
     "text": [
      "+------+---------+---------+\n",
      "|      |  Train  |  Test   |\n",
      "+------+---------+---------+\n",
      "| loss | 0.52233 | 0.51533 |\n",
      "|  r2  | 0.5933  | 0.5975  |\n",
      "+------+---------+---------+\n",
      "\n",
      "Epoch 37/600\n"
     ]
    },
    {
     "name": "stderr",
     "output_type": "stream",
     "text": [
      "train 0: 100%|██████████| 675/675 [00:37<00:00, 17.85it/s, loss=0.5252, r2=0.6075]\n"
     ]
    },
    {
     "name": "stdout",
     "output_type": "stream",
     "text": [
      "+------+---------+---------+\n",
      "|      |  Train  |  Test   |\n",
      "+------+---------+---------+\n",
      "| loss | 0.52472 | 0.52252 |\n",
      "|  r2  | 0.5924  | 0.5923  |\n",
      "+------+---------+---------+\n",
      "\n",
      "Epoch 38/600\n"
     ]
    },
    {
     "name": "stderr",
     "output_type": "stream",
     "text": [
      "train 0: 100%|██████████| 675/675 [00:35<00:00, 18.76it/s, loss=0.5691, r2=0.5772]\n"
     ]
    },
    {
     "name": "stdout",
     "output_type": "stream",
     "text": [
      "+------+---------+---------+\n",
      "|      |  Train  |  Test   |\n",
      "+------+---------+---------+\n",
      "| loss | 0.52505 | 0.51243 |\n",
      "|  r2  | 0.5922  | 0.5989  |\n",
      "+------+---------+---------+\n",
      "\n",
      "Epoch 39/600\n"
     ]
    },
    {
     "name": "stderr",
     "output_type": "stream",
     "text": [
      "train 0: 100%|██████████| 675/675 [00:38<00:00, 17.33it/s, loss=0.5227, r2=0.6030]\n"
     ]
    },
    {
     "name": "stdout",
     "output_type": "stream",
     "text": [
      "+------+---------+---------+\n",
      "|      |  Train  |  Test   |\n",
      "+------+---------+---------+\n",
      "| loss | 0.52271 | 0.52413 |\n",
      "|  r2  | 0.5932  | 0.5920  |\n",
      "+------+---------+---------+\n",
      "\n",
      "Epoch 40/600\n"
     ]
    },
    {
     "name": "stderr",
     "output_type": "stream",
     "text": [
      "train 0: 100%|██████████| 675/675 [00:41<00:00, 16.19it/s, loss=0.5180, r2=0.6052]\n"
     ]
    },
    {
     "name": "stdout",
     "output_type": "stream",
     "text": [
      "+------+---------+---------+\n",
      "|      |  Train  |  Test   |\n",
      "+------+---------+---------+\n",
      "| loss | 0.52312 | 0.51595 |\n",
      "|  r2  | 0.5933  | 0.5971  |\n",
      "+------+---------+---------+\n",
      "\n",
      "Epoch 41/600\n"
     ]
    },
    {
     "name": "stderr",
     "output_type": "stream",
     "text": [
      "train 0: 100%|██████████| 675/675 [00:39<00:00, 17.05it/s, loss=0.5530, r2=0.5843]\n"
     ]
    }
   ],
   "source": [
    "from kemsekov_torch.train import train\n",
    "from kemsekov_torch.metrics import r2_score\n",
    "from kemsekov_torch.flow_matching import FlowMatching\n",
    "\n",
    "fm = FlowMatching()\n",
    "loss = nn.MSELoss()\n",
    "\n",
    "contrastive_lambda = 0.05\n",
    "def compute_loss_and_metric(model,batch):\n",
    "    image,cls = batch\n",
    "    \n",
    "    no_label_samples = torch.randperm(len(cls))[:len(cls)//4]\n",
    "    cls[no_label_samples]=-1\n",
    "    \n",
    "    def run_model(x,t):\n",
    "        return model(x,t,cls)\n",
    "    x0 = torch.randn_like(image)\n",
    "    pred,target,contrastive_dir,t = fm.contrastive_flow_matching_pair(run_model,x0,image)\n",
    "    \n",
    "    loss_ = loss(pred,target) - contrastive_lambda*loss(pred,contrastive_dir)\n",
    "    return loss_,{\n",
    "        'r2':r2_score(pred,target)\n",
    "    }\n",
    "\n",
    "epochs = 600\n",
    "optim = torch.optim.AdamW(model.parameters(),1e-3)\n",
    "sch = torch.optim.lr_scheduler.CosineAnnealingLR(optim,len(train_loader)*epochs)\n",
    "train(\n",
    "    model,\n",
    "    train_loader,\n",
    "    test_loader,\n",
    "    compute_loss_and_metric,\n",
    "    \"runs/vae-natural\",\n",
    "    \"runs/vae-natural/last\",\n",
    "    num_epochs=epochs,\n",
    "    save_on_metric_improve=['r2'],\n",
    "    gradient_clipping_max_norm=1,\n",
    "    accelerate_args={\n",
    "        'mixed_precision':'bf16',\n",
    "        # 'dynamo_backend':'inductor'\n",
    "    },\n",
    "    ema_args={\n",
    "        'update_after_step':100,\n",
    "        'beta':0.99,\n",
    "        'power':1,\n",
    "        'use_foreach':True\n",
    "    },\n",
    "    optimizer=optim,\n",
    "    scheduler=sch\n",
    ")"
   ]
  }
 ],
 "metadata": {
  "kernelspec": {
   "display_name": "venv",
   "language": "python",
   "name": "python3"
  },
  "language_info": {
   "codemirror_mode": {
    "name": "ipython",
    "version": 3
   },
   "file_extension": ".py",
   "mimetype": "text/x-python",
   "name": "python",
   "nbconvert_exporter": "python",
   "pygments_lexer": "ipython3",
   "version": "3.12.3"
  }
 },
 "nbformat": 4,
 "nbformat_minor": 5
}
