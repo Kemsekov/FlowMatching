{
 "cells": [
  {
   "cell_type": "markdown",
   "id": "88677b02",
   "metadata": {},
   "source": [
    "This notebooks help to prepare dataset for training flow matching model.\n",
    "\n",
    "We convert images to VAE latents and saves them locally"
   ]
  },
  {
   "cell_type": "code",
   "execution_count": 1,
   "id": "b4fd48a4",
   "metadata": {},
   "outputs": [],
   "source": [
    "#folder with images dataset\n",
    "images_folder='/home/vlad/Documents/data'\n",
    "\n",
    "# where to save VAE latents\n",
    "save_latents_dir = './latents'\n",
    "\n",
    "# image size\n",
    "image_size=256\n",
    "\n",
    "# how many dataset repeats to prepare\n",
    "repeats = 1"
   ]
  },
  {
   "cell_type": "code",
   "execution_count": 2,
   "id": "ee8ddd16",
   "metadata": {},
   "outputs": [
    {
     "name": "stderr",
     "output_type": "stream",
     "text": [
      "/home/vlad/Programs/venv/lib/python3.12/site-packages/tqdm/auto.py:21: TqdmWarning: IProgress not found. Please update jupyter and ipywidgets. See https://ipywidgets.readthedocs.io/en/stable/user_install.html\n",
      "  from .autonotebook import tqdm as notebook_tqdm\n",
      "dog: 100%|██████████| 5685/5685 [03:44<00:00, 25.37it/s]\n",
      "Birds: 100%|██████████| 3000/3000 [01:46<00:00, 28.15it/s]\n",
      "cat: 100%|██████████| 2553/2553 [02:00<00:00, 21.18it/s]\n"
     ]
    }
   ],
   "source": [
    "import os\n",
    "import torchvision.transforms as T\n",
    "from kemsekov_torch.utils import PadToMultiple\n",
    "import tqdm\n",
    "from vae import *\n",
    "\n",
    "tr = T.Compose([\n",
    "    T.ToTensor(),\n",
    "    T.Resize(image_size),\n",
    "    T.RandomHorizontalFlip(),\n",
    "    PadToMultiple(image_size//4),\n",
    "])\n",
    "\n",
    "image_formats=['.png','.jpg','.jpeg','.webp']\n",
    "for dir_path,subf,files in os.walk(images_folder):\n",
    "    files = [os.path.join(dir_path,f) for f in files if [f.endswith(v) for v in image_formats]]\n",
    "    class_ = os.path.split(dir_path)[-1]\n",
    "    if len(files)==0: continue\n",
    "    save_folder = os.path.join(save_latents_dir,class_)\n",
    "    os.makedirs(save_folder,exist_ok=True)\n",
    "    files_r = files*repeats\n",
    "    data = tqdm.tqdm(enumerate(files_r),total=len(files_r),desc=class_)\n",
    "    for i,f in data:\n",
    "        latents = encode(tr(Image.open(f).convert(\"RGB\")))\n",
    "        torch.save(latents[0],os.path.join(save_folder,str(i)+\".pt\"))"
   ]
  }
 ],
 "metadata": {
  "kernelspec": {
   "display_name": "venv",
   "language": "python",
   "name": "python3"
  },
  "language_info": {
   "codemirror_mode": {
    "name": "ipython",
    "version": 3
   },
   "file_extension": ".py",
   "mimetype": "text/x-python",
   "name": "python",
   "nbconvert_exporter": "python",
   "pygments_lexer": "ipython3",
   "version": "3.12.3"
  }
 },
 "nbformat": 4,
 "nbformat_minor": 5
}
