{
 "cells": [
  {
   "cell_type": "markdown",
   "id": "88677b02",
   "metadata": {},
   "source": [
    "This notebooks help to prepare dataset for training flow matching model.\n",
    "\n",
    "We convert images to VAE latents and saves them locally"
   ]
  },
  {
   "cell_type": "code",
   "execution_count": null,
   "id": "b4fd48a4",
   "metadata": {},
   "outputs": [],
   "source": [
    "#folder with images dataset\n",
    "images_folder='/home/vlad/Documents/TreesDataset'\n",
    "\n",
    "# where to save VAE latents\n",
    "save_latents_dir = './latents_tree'\n",
    "\n",
    "# image size\n",
    "image_size=256\n",
    "\n",
    "# how many dataset repeats to prepare\n",
    "repeats = 2"
   ]
  },
  {
   "cell_type": "code",
   "execution_count": null,
   "id": "ee8ddd16",
   "metadata": {},
   "outputs": [
    {
     "name": "stderr",
     "output_type": "stream",
     "text": [
      "/home/vlad/Programs/venv/lib/python3.12/site-packages/tqdm/auto.py:21: TqdmWarning: IProgress not found. Please update jupyter and ipywidgets. See https://ipywidgets.readthedocs.io/en/stable/user_install.html\n",
      "  from .autonotebook import tqdm as notebook_tqdm\n",
      "Rotten_birch: 100%|██████████| 22/22 [00:01<00:00, 20.10it/s]\n",
      "Spruce: 100%|██████████| 106/106 [00:03<00:00, 27.71it/s]\n",
      "Mystical: 100%|██████████| 82/82 [00:02<00:00, 29.41it/s]\n",
      "Ash: 100%|██████████| 20/20 [00:00<00:00, 35.45it/s]\n",
      "Dead_birch: 100%|██████████| 54/54 [00:01<00:00, 28.53it/s]\n",
      "Birch: 100%|██████████| 284/284 [00:09<00:00, 30.90it/s]\n",
      "Dead_pine: 100%|██████████| 28/28 [00:00<00:00, 37.44it/s]\n",
      "Willow: 100%|██████████| 10/10 [00:00<00:00, 27.33it/s]\n",
      "Normal: 100%|██████████| 242/242 [00:10<00:00, 23.75it/s]\n",
      "Aspen: 100%|██████████| 70/70 [00:03<00:00, 20.39it/s]\n",
      "pine: 100%|██████████| 170/170 [00:04<00:00, 36.74it/s]\n",
      "Oak: 100%|██████████| 14/14 [00:00<00:00, 37.19it/s]\n",
      "Rotten_spruce: 100%|██████████| 8/8 [00:00<00:00, 25.83it/s]\n",
      "Dead_spruce: 100%|██████████| 30/30 [00:01<00:00, 18.45it/s]\n",
      "Dead_aspen: 100%|██████████| 42/42 [00:01<00:00, 22.92it/s]\n",
      "Fir: 100%|██████████| 74/74 [00:02<00:00, 26.56it/s]\n",
      "bird-cherry: 100%|██████████| 26/26 [00:00<00:00, 38.54it/s]\n",
      "Bush: 100%|██████████| 136/136 [00:03<00:00, 40.22it/s]\n",
      "tulip: 100%|██████████| 34/34 [00:01<00:00, 28.39it/s]\n"
     ]
    },
    {
     "ename": "",
     "evalue": "",
     "output_type": "error",
     "traceback": [
      "\u001b[1;31mThe Kernel crashed while executing code in the current cell or a previous cell. \n",
      "\u001b[1;31mPlease review the code in the cell(s) to identify a possible cause of the failure. \n",
      "\u001b[1;31mClick <a href='https://aka.ms/vscodeJupyterKernelCrash'>here</a> for more info. \n",
      "\u001b[1;31mView Jupyter <a href='command:jupyter.viewOutput'>log</a> for further details."
     ]
    }
   ],
   "source": [
    "import os\n",
    "import torchvision.transforms as T\n",
    "from kemsekov_torch.utils import PadToMultiple\n",
    "import tqdm\n",
    "from vae import *\n",
    "\n",
    "tr = T.Compose([\n",
    "    T.ToTensor(),\n",
    "    T.Resize(image_size),\n",
    "    T.RandomHorizontalFlip(),\n",
    "    PadToMultiple(image_size//4),\n",
    "])\n",
    "\n",
    "image_formats=['.png','.jpg','.jpeg','.webp']\n",
    "for dir_path,subf,files in os.walk(images_folder):\n",
    "    files = [os.path.join(dir_path,f) for f in files if [f.endswith(v) for v in image_formats]]\n",
    "    class_ = os.path.split(dir_path)[-1]\n",
    "    if len(files)==0: continue\n",
    "    save_folder = os.path.join(save_latents_dir,class_)\n",
    "    os.makedirs(save_folder,exist_ok=True)\n",
    "    images = [tr(Image.open(f)) for f in files*repeats]\n",
    "    \n",
    "    data = tqdm.tqdm(enumerate(images),total=len(images),desc=class_)\n",
    "    for i,im in data:\n",
    "        latents = encode(im)\n",
    "        torch.save(latents[0],os.path.join(save_folder,str(i)+\".pt\"))"
   ]
  }
 ],
 "metadata": {
  "kernelspec": {
   "display_name": "venv",
   "language": "python",
   "name": "python3"
  },
  "language_info": {
   "codemirror_mode": {
    "name": "ipython",
    "version": 3
   },
   "file_extension": ".py",
   "mimetype": "text/x-python",
   "name": "python",
   "nbconvert_exporter": "python",
   "pygments_lexer": "ipython3",
   "version": "3.12.3"
  }
 },
 "nbformat": 4,
 "nbformat_minor": 5
}
